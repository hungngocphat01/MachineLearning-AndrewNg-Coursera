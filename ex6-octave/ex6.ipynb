{
 "cells": [
  {
   "cell_type": "code",
   "execution_count": 1,
   "source": [
    "import numpy as np\n",
    "import matplotlib.pyplot as plt \n",
    "import scipy.io as sio \n",
    "import pandas as pd\n",
    "import re\n",
    "from sklearn.neural_network import MLPClassifier\n",
    "from sklearn.linear_model import LogisticRegression\n",
    "from sklearn import svm\n",
    "from nltk.stem import PorterStemmer"
   ],
   "outputs": [],
   "metadata": {}
  },
  {
   "cell_type": "code",
   "execution_count": 2,
   "source": [
    "def plotBinaryClassScatter(class1=None, class2=None):\n",
    "    plt.clf()\n",
    "    fig, ax = plt.subplots()\n",
    "    fig.set_size_inches((10, 7))\n",
    "    ax.scatter(class1[0], class1[1], c=\"red\")\n",
    "    ax.scatter(class2[0], class2[1], c=\"blue\")\n",
    "    return fig, ax\n",
    "\n",
    "def plotDecisionBoundary(X, model, ax):\n",
    "    x_min, x_max = X[:, 0].min(), X[:, 0].max()\n",
    "    y_min, y_max = X[:, 1].min(), X[:, 1].max()\n",
    "    xx, yy = np.meshgrid(np.arange(x_min, x_max, 0.01),\n",
    "                        np.arange(y_min, y_max, 0.01))\n",
    "\n",
    "    Z = model.predict(np.c_[xx.ravel(), yy.ravel()])\n",
    "    ax.contour(xx, yy, Z.reshape(xx.shape), alpha=0.4)\n",
    "\n",
    "def calculateAccuracy(X, y, model):\n",
    "    pred = model.predict(X)\n",
    "    return np.sum((pred.ravel() == y.ravel()))/len(y)\n",
    "    \n",
    "    "
   ],
   "outputs": [],
   "metadata": {}
  },
  {
   "cell_type": "markdown",
   "source": [
    "# 1. Train non-linear decision boundary"
   ],
   "metadata": {}
  },
  {
   "cell_type": "markdown",
   "source": [
    "## a. Load data"
   ],
   "metadata": {}
  },
  {
   "cell_type": "code",
   "execution_count": null,
   "source": [
    "dataset = sio.loadmat(\"ex6data2.mat\")\n",
    "\n",
    "y = np.array(dataset[\"y\"]).ravel()\n",
    "X = np.array(dataset[\"X\"])\n",
    "print(\"Shapes:\", X.shape, y.shape)\n",
    "\n",
    "# Visualize data\n",
    "plotBinaryClassScatter(\n",
    "    class1=(X[:,0][y == 0], X[:,1][y == 0]), \n",
    "    class2=(X[:,0][y == 1], X[:,1][y == 1])\n",
    ")"
   ],
   "outputs": [],
   "metadata": {}
  },
  {
   "cell_type": "markdown",
   "source": [
    "## 2. Train SVM"
   ],
   "metadata": {}
  },
  {
   "cell_type": "code",
   "execution_count": null,
   "source": [
    "clf = svm.SVC(kernel='rbf', C=1.0, gamma=50)\n",
    "clf.fit(X, y.ravel())\n",
    "\n",
    "_, ax = plotBinaryClassScatter(\n",
    "    class1=(X[:,0][y == 0], X[:,1][y == 0]), \n",
    "    class2=(X[:,0][y == 1], X[:,1][y == 1])\n",
    ")\n",
    "plotDecisionBoundary(X, clf, ax)\n",
    "\n",
    "# Calculate accuracy:\n",
    "print(\"Training accuracy:\", calculateAccuracy(X, y, clf))"
   ],
   "outputs": [],
   "metadata": {}
  },
  {
   "cell_type": "markdown",
   "source": [
    "# 2. Determine the right kernel params"
   ],
   "metadata": {}
  },
  {
   "cell_type": "markdown",
   "source": [
    "## a. Load data"
   ],
   "metadata": {}
  },
  {
   "cell_type": "code",
   "execution_count": null,
   "source": [
    "dataset2 = sio.loadmat(\"ex6data3.mat\")\n",
    "\n",
    "y = np.array(dataset2[\"y\"]).ravel()\n",
    "X = np.array(dataset2[\"X\"])\n",
    "Xval = np.array(dataset2[\"Xval\"])\n",
    "yval = np.array(dataset2[\"yval\"]).ravel()\n",
    "print(\"Shapes:\", X.shape, y.shape, Xval.shape, yval.shape)\n",
    "\n",
    "# Visualize data\n",
    "plotBinaryClassScatter(\n",
    "    class1=(X[:,0][y == 0], X[:,1][y == 0]), \n",
    "    class2=(X[:,0][y == 1], X[:,1][y == 1])\n",
    ")"
   ],
   "outputs": [],
   "metadata": {}
  },
  {
   "cell_type": "markdown",
   "source": [
    "## b. Train various models on various params"
   ],
   "metadata": {}
  },
  {
   "cell_type": "code",
   "execution_count": null,
   "source": [
    "C_arr = [0.1, 0.5, 1, 2, 3, 5, 10, 20]\n",
    "gamma_arr = [0.1, 0.2, 0.5, 1, 10, 20, 50, 80, 100]\n",
    "min_err = 10e6\n",
    "optimal_C = 0\n",
    "optimal_gamma = 0\n",
    "optimal_model = None \n",
    "\n",
    "for C in C_arr:\n",
    "    for gamma in gamma_arr:\n",
    "        clf = svm.SVC(C=C, gamma=gamma, kernel='rbf')\n",
    "        clf.fit(X, y)\n",
    "        pred = clf.predict(Xval).ravel()\n",
    "        err = np.sum(np.double(pred != yval.ravel()))/len(pred)\n",
    "        \n",
    "        if (err < min_err):\n",
    "            min_err = err \n",
    "            optimal_C = C \n",
    "            optimal_gamma = gamma\n",
    "            optimal_model = clf\n",
    "\n",
    "        print(\"\\r\", \n",
    "            \"Training with C=%f, gamma=%f\" % (C, gamma), \n",
    "            \"; Error: %f\" % err, \n",
    "            end=\"\")\n",
    "\n",
    "print(\"\\nOptimal values of (C, gamma, err) =\", (optimal_C, optimal_gamma, min_err))\n",
    "\n",
    "# Plot decision boundary\n",
    "_, ax = plotBinaryClassScatter(\n",
    "    class1=(X[:,0][y == 0], X[:,1][y == 0]), \n",
    "    class2=(X[:,0][y == 1], X[:,1][y == 1])\n",
    ")\n",
    "plotDecisionBoundary(X, optimal_model, ax)"
   ],
   "outputs": [],
   "metadata": {}
  },
  {
   "cell_type": "markdown",
   "source": [
    "# 3. Training a spam classifier with SVM"
   ],
   "metadata": {}
  },
  {
   "cell_type": "markdown",
   "source": [
    "## a. Load data"
   ],
   "metadata": {}
  },
  {
   "cell_type": "code",
   "execution_count": 3,
   "source": [
    "df = pd.read_table(\"vocab.txt\", header=None)\n",
    "\n",
    "dataset_train = sio.loadmat(\"spamTrain.mat\")\n",
    "X = np.array(dataset_train[\"X\"]) \n",
    "y = np.array(dataset_train[\"y\"])\n",
    "print(X.shape, y.shape)\n",
    "\n",
    "# Scramble data\n",
    "megaset = np.hstack((X, y))\n",
    "np.random.shuffle(megaset)\n",
    "\n",
    "breakpnt = int(X.shape[0]*0.8)\n",
    "\n",
    "X = megaset[None:breakpnt, None:-1]\n",
    "y = megaset[None:breakpnt, -1:None]\n",
    "Xval = megaset[breakpnt:None, None:-1]\n",
    "yval = megaset[breakpnt:None, -1:None]\n",
    "\n",
    "print(X.shape, y.shape, Xval.shape, yval.shape)\n",
    "\n",
    "dataset_val = sio.loadmat(\"spamTest.mat\")\n",
    "Xtest = np.array(dataset_train[\"X\"])\n",
    "ytest = np.array(dataset_train[\"y\"])"
   ],
   "outputs": [
    {
     "output_type": "stream",
     "name": "stdout",
     "text": [
      "(4000, 1899) (4000, 1)\n",
      "(3200, 1899) (3200, 1) (800, 1899) (800, 1)\n"
     ]
    }
   ],
   "metadata": {}
  },
  {
   "cell_type": "code",
   "execution_count": 4,
   "source": [
    "# Test cell\n"
   ],
   "outputs": [],
   "metadata": {}
  },
  {
   "cell_type": "markdown",
   "source": [
    "## b. Define data processing functions"
   ],
   "metadata": {}
  },
  {
   "cell_type": "code",
   "execution_count": 5,
   "source": [
    "def readEmail(filename):\n",
    "    email = None \n",
    "    with open(filename) as f:\n",
    "        email = f.readlines() \n",
    "    return \" \".join(email)\n",
    "    \n",
    "def preprocessEmail(email: str):\n",
    "    regex_matches = [\n",
    "        \"(http|https)://[^\\s]*\", # http\n",
    "        \"[0-9]+\", # number\n",
    "        \"[^\\s]+@[^\\s]+\", # email address\n",
    "        \"[$]+\", # dollar sign\n",
    "        \"<[^<>]+>\", # html tags\n",
    "        \"[^A-Za-z0-9]\", # non alphanumeric chars\n",
    "        \"[\\s]+\"\n",
    "    ]\n",
    "    regex_replacements = [\n",
    "        \"httpaddr\",\n",
    "        \"number\",\n",
    "        \"emailaddr\",\n",
    "        \"dollar \",\n",
    "        \" \",\n",
    "        \" \",\n",
    "        \" \"\n",
    "    ]\n",
    "\n",
    "    for match, replacement in zip(regex_matches, regex_replacements):\n",
    "        email = re.sub(match, replacement, email)\n",
    "    \n",
    "    return email.lower().strip()\n",
    "\n",
    "def getEncodedEmail(email: str):\n",
    "    word_indices = np.array([],  dtype=np.int16)\n",
    "    email = preprocessEmail(email)\n",
    "    ps = PorterStemmer()\n",
    "\n",
    "    for word in email.split():\n",
    "        stemmed_word = ps.stem(word)\n",
    "        data_row = df[df[1] == stemmed_word]\n",
    "        if (not data_row.empty):\n",
    "            word_indices = np.append(word_indices, int(data_row[0]))\n",
    "    \n",
    "    return word_indices\n",
    "\n",
    "def getFeatureVector(encoded_email: np.ndarray):\n",
    "    feature_vec = np.zeros((df.shape[0], 1))\n",
    "    for idx in encoded_email:\n",
    "        feature_vec[idx] = 1\n",
    "    return feature_vec"
   ],
   "outputs": [],
   "metadata": {}
  },
  {
   "cell_type": "markdown",
   "source": [
    "## c. Train SVM"
   ],
   "metadata": {}
  },
  {
   "cell_type": "code",
   "execution_count": 6,
   "source": [
    "C_arr = [50]\n",
    "gamma_arr = [0.0005]\n",
    "min_err = 10e6\n",
    "optimal_C = 0\n",
    "optimal_gamma = 0\n",
    "optimal_model = None \n",
    "\n",
    "for C in C_arr:\n",
    "    for gamma in gamma_arr:\n",
    "        print(\"Training with C=%f, gamma=%f\" % (C, gamma), end=\"; \")\n",
    "        clf = svm.SVC(C=C, gamma=gamma, kernel='rbf')\n",
    "        clf.fit(X, y.ravel())\n",
    "\n",
    "        val_pred = clf.predict(Xval).ravel()\n",
    "        err = np.mean(np.double(val_pred != yval.ravel()))\n",
    "\n",
    "        print(\"Error=\", err)\n",
    "        if (err < min_err):\n",
    "            min_err = err \n",
    "            optimal_C = C \n",
    "            optimal_gamma = gamma\n",
    "            optimal_model = clf\n",
    "\n",
    "print(\"\\nOptimal values of (C, gamma, err) =\", (optimal_C, optimal_gamma, min_err))\n",
    "print(\"Test set accuracy:\", calculateAccuracy(Xtest, ytest, optimal_model))"
   ],
   "outputs": [
    {
     "output_type": "stream",
     "name": "stdout",
     "text": [
      "Training with C=50.000000, gamma=0.000500; Error= 0.0175\n",
      "\n",
      "Optimal values of (C, gamma, err) = (50, 0.0005, 0.0175)\n",
      "Test set accuracy: 0.994\n"
     ]
    }
   ],
   "metadata": {}
  },
  {
   "cell_type": "markdown",
   "source": [
    "## e. Test real emails"
   ],
   "metadata": {}
  },
  {
   "cell_type": "code",
   "execution_count": 7,
   "source": [
    "# sample1 = readEmail(\"emailSample1.txt\")\n",
    "# sample2 = readEmail(\"emailSample2.txt\")\n",
    "# spam1 = readEmail(\"spamSample1.txt\")\n",
    "# spam2 = readEmail(\"spamSample2.txt\")\n",
    "spam3 = r\"do you want to be a billionnaire? participate our training programme today!\"\n",
    "spam4 = \"bkav antivirus, 100\\% effective! purchase now and have your computer protected \\\n",
    "    by the most advanced antivirus software in the world!\"\n",
    "normal = \"hello, i just saw the 'statistics in application' book that you are selling on facebook. \\\n",
    "    do you accept COD shipping? please contact me as soon as possible. best regards.\"\n",
    "\n",
    "\n",
    "for mail in (spam3, spam4, normal):\n",
    "    feature_vec = getFeatureVector(getEncodedEmail(mail)).reshape(1, -1)\n",
    "    pred = optimal_model.predict(feature_vec)\n",
    "    if int(pred) == 1:\n",
    "        print(\"=> This is a spam email\")\n",
    "    else:\n",
    "        print(\"=> This is not a spam email\")"
   ],
   "outputs": [
    {
     "output_type": "stream",
     "name": "stdout",
     "text": [
      "=> This is a spam email\n",
      "=> This is a spam email\n",
      "=> This is not a spam email\n"
     ]
    }
   ],
   "metadata": {}
  },
  {
   "cell_type": "markdown",
   "source": [
    "# 4. Training a spam classifier with neural network"
   ],
   "metadata": {}
  },
  {
   "cell_type": "markdown",
   "source": [
    "## a. Load data"
   ],
   "metadata": {}
  },
  {
   "cell_type": "code",
   "execution_count": null,
   "source": [
    "# Calls the block from (3)"
   ],
   "outputs": [],
   "metadata": {}
  },
  {
   "cell_type": "markdown",
   "source": [
    "## b. Train"
   ],
   "metadata": {}
  },
  {
   "cell_type": "code",
   "execution_count": 9,
   "source": [
    "lambdas = [0.1, 0.5, 1, 10, 20, 30, 40]\n",
    "max_val_accuracy = 0\n",
    "optimal_model = None\n",
    "optimal_lambda = 0\n",
    "\n",
    "for lambd in lambdas:\n",
    "    print(\"Training with lambda=%f\" % lambd, end=\"; \")\n",
    "    clf = MLPClassifier(solver='lbfgs', alpha=lambd, hidden_layer_sizes=(1,))\n",
    "    clf.fit(X, y.ravel())\n",
    "\n",
    "    val_accuracy = calculateAccuracy(Xval, yval, clf)\n",
    "\n",
    "    if val_accuracy > max_val_accuracy:\n",
    "        max_val_accuracy = val_accuracy\n",
    "        optimal_model = clf\n",
    "        optimal_lambda = lambd\n",
    "\n",
    "    print(\"Val acc=%f\" % (val_accuracy))\n",
    "\n",
    "print(\"Optimal values of (accuracy, lambda) =\", (max_val_accuracy, optimal_lambda))\n",
    "print(\"Test set accuracy: \", calculateAccuracy(Xtest, ytest, optimal_model))\n",
    "    "
   ],
   "outputs": [
    {
     "output_type": "stream",
     "name": "stdout",
     "text": [
      "Training with lambda=0.100000; Val acc=0.976250\n",
      "Training with lambda=0.500000; Val acc=0.980000\n",
      "Training with lambda=1.000000; Val acc=0.710000\n",
      "Training with lambda=10.000000; Val acc=0.981250\n",
      "Training with lambda=20.000000; Val acc=0.710000\n",
      "Training with lambda=30.000000; Val acc=0.981250\n",
      "Training with lambda=40.000000; Val acc=0.981250\n",
      "Optimal values of (accuracy, lambda) = (0.98125, 10)\n",
      "Test set accuracy:  0.99575\n"
     ]
    }
   ],
   "metadata": {}
  },
  {
   "cell_type": "code",
   "execution_count": 10,
   "source": [
    "# Test with logistic regression\n",
    "\n",
    "lambdas = [0.1, 0.5, 1, 10, 20, 30, 40]\n",
    "max_val_accuracy = 0\n",
    "optimal_model = None\n",
    "optimal_lambda = 0\n",
    "\n",
    "for lambd in lambdas:\n",
    "    print(\"Training with lambda=%f\" % lambd, end=\"; \")\n",
    "    clf = LogisticRegression(solver='lbfgs', C=1/lambd)\n",
    "    clf.fit(X, y.ravel())\n",
    "\n",
    "    val_accuracy = calculateAccuracy(Xval, yval, clf)\n",
    "\n",
    "    if val_accuracy > max_val_accuracy:\n",
    "        max_val_accuracy = val_accuracy\n",
    "        optimal_model = clf\n",
    "        optimal_lambda = lambd\n",
    "\n",
    "    print(\"Val acc=%f\" % (val_accuracy))\n",
    "\n",
    "print(\"Optimal values of (accuracy, lambda) =\", (max_val_accuracy, optimal_lambda))\n",
    "print(\"Test set accuracy: \", calculateAccuracy(Xtest, ytest, optimal_model))"
   ],
   "outputs": [
    {
     "output_type": "stream",
     "name": "stdout",
     "text": [
      "Training with lambda=0.100000; Val acc=0.980000\n",
      "Training with lambda=0.500000; Val acc=0.981250\n",
      "Training with lambda=1.000000; Val acc=0.982500\n",
      "Training with lambda=10.000000; Val acc=0.981250\n",
      "Training with lambda=20.000000; Val acc=0.972500\n",
      "Training with lambda=30.000000; Val acc=0.973750\n",
      "Training with lambda=40.000000; Val acc=0.972500\n",
      "Optimal values of (accuracy, lambda) = (0.9825, 1)\n",
      "Test set accuracy:  0.996\n"
     ]
    }
   ],
   "metadata": {}
  },
  {
   "cell_type": "markdown",
   "source": [
    "## d. Test with real emails"
   ],
   "metadata": {}
  },
  {
   "cell_type": "code",
   "execution_count": null,
   "source": [
    "# Use test block from (3)"
   ],
   "outputs": [],
   "metadata": {}
  }
 ],
 "metadata": {
  "orig_nbformat": 4,
  "language_info": {
   "name": "python",
   "version": "3.9.6",
   "mimetype": "text/x-python",
   "codemirror_mode": {
    "name": "ipython",
    "version": 3
   },
   "pygments_lexer": "ipython3",
   "nbconvert_exporter": "python",
   "file_extension": ".py"
  },
  "kernelspec": {
   "name": "python3",
   "display_name": "Python 3.9.6 64-bit"
  },
  "interpreter": {
   "hash": "e7370f93d1d0cde622a1f8e1c04877d8463912d04d973331ad4851f04de6915a"
  }
 },
 "nbformat": 4,
 "nbformat_minor": 2
}