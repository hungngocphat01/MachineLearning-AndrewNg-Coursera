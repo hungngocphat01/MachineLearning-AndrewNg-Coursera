{
 "cells": [
  {
   "cell_type": "code",
   "execution_count": 245,
   "source": [
    "import pandas as pd \n",
    "import numpy as np\n",
    "import matplotlib.pyplot as plt \n",
    "import scipy.io as sio\n",
    "import time\n",
    "from sklearn.model_selection import train_test_split\n",
    "from IPython.display import clear_output"
   ],
   "outputs": [],
   "metadata": {}
  },
  {
   "cell_type": "markdown",
   "source": [
    "# 1. Load data"
   ],
   "metadata": {}
  },
  {
   "cell_type": "code",
   "execution_count": 246,
   "source": [
    "dataset = sio.loadmat(\"ex7data1.mat\")\n",
    "X = dataset[\"X\"]"
   ],
   "outputs": [],
   "metadata": {}
  },
  {
   "cell_type": "markdown",
   "source": [
    "# 2. Define necessary functions"
   ],
   "metadata": {}
  },
  {
   "cell_type": "code",
   "execution_count": 247,
   "source": [
    "# X: training set, M: list of centroids\n",
    "# Returns: y (labels for each of X)\n",
    "def clusterAssignment(X, M):\n",
    "    y = np.zeros((X.shape[0],))\n",
    "    for i in range(X.shape[0]):\n",
    "        x = X[i, :]\n",
    "        distances = np.linalg.norm(M - x, axis=1)\n",
    "        j = np.argmin(distances)\n",
    "        y[i] = j\n",
    "    return y\n",
    "\n",
    "# X: training set, y: previously predicted labels\n",
    "# Returns: m (new centroids)\n",
    "def moveCentroid(X, y, k):\n",
    "    M = np.zeros((k, X.shape[1]))\n",
    "    for j in range(k):\n",
    "        m = np.mean(X[y == j, :], axis=0)\n",
    "        M[j, :] = m\n",
    "    return M"
   ],
   "outputs": [],
   "metadata": {}
  },
  {
   "cell_type": "code",
   "execution_count": 248,
   "source": [
    "def randomInitCentroids(X, k):\n",
    "    r = np.random.randint(0, X.shape[0], k)\n",
    "    return X[r, :]"
   ],
   "outputs": [],
   "metadata": {}
  },
  {
   "cell_type": "code",
   "execution_count": 249,
   "source": [
    "def visualizeData(X, y, m = None):\n",
    "    for i in np.unique(y):\n",
    "        plt.scatter(X[y == i, 0], X[y == i, 1], label=i)\n",
    "    if m is not None:\n",
    "        plt.scatter(m[:, 0], m[:, 1], c='k')\n",
    "    plt.show()"
   ],
   "outputs": [],
   "metadata": {}
  },
  {
   "cell_type": "code",
   "execution_count": 250,
   "source": [
    "def runkMeans(X, k, max_iters=100):\n",
    "    m = randomInitCentroids(X, k)\n",
    "\n",
    "    for i in range(max_iters):\n",
    "        y = clusterAssignment(X, m)\n",
    "        visualizeData(X, y, m)\n",
    "        m_new = moveCentroid(X, y, k)\n",
    "        if np.linalg.norm(m - m_new) < 1e-3:\n",
    "            break\n",
    "        m = m_new\n",
    "        time.sleep(0.5)\n",
    "        clear_output(wait=True)\n",
    "\n",
    "    return m"
   ],
   "outputs": [],
   "metadata": {}
  },
  {
   "cell_type": "markdown",
   "source": [
    "# 3. Test"
   ],
   "metadata": {}
  },
  {
   "cell_type": "code",
   "execution_count": 251,
   "source": [
    "runkMeans(X, 3)"
   ],
   "outputs": [
    {
     "output_type": "display_data",
     "data": {
      "image/png": "[encoded data removed]",
      "text/plain": [
       "<Figure size 432x288 with 1 Axes>"
      ]
     },
     "metadata": {
      "needs_background": "light"
     }
    },
    {
     "output_type": "execute_result",
     "data": {
      "text/plain": [
       "array([[4.1284457 , 5.38337785],\n",
       "       [2.74403139, 3.97163677],\n",
       "       [5.41133402, 5.83928781]])"
      ]
     },
     "metadata": {},
     "execution_count": 251
    }
   ],
   "metadata": {}
  }
 ],
 "metadata": {
  "orig_nbformat": 4,
  "language_info": {
   "name": "python",
   "version": "3.9.6",
   "mimetype": "text/x-python",
   "codemirror_mode": {
    "name": "ipython",
    "version": 3
   },
   "pygments_lexer": "ipython3",
   "nbconvert_exporter": "python",
   "file_extension": ".py"
  },
  "kernelspec": {
   "name": "python3",
   "display_name": "Python 3.9.6 64-bit"
  },
  "interpreter": {
   "hash": "f9f85f796d01129d0dd105a088854619f454435301f6ffec2fea96ecbd9be4ac"
  }
 },
 "nbformat": 4,
 "nbformat_minor": 2
}