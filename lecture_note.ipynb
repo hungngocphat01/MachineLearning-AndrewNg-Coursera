{
 "cells": [
  {
   "cell_type": "markdown",
   "source": [
    "This is my lecture notes for this code. Does not contain of any fully runnable code."
   ],
   "metadata": {}
  },
  {
   "cell_type": "markdown",
   "source": [
    "# Linear regression\n"
   ],
   "metadata": {}
  },
  {
   "cell_type": "markdown",
   "source": [
    "## Introduction\n",
    "\n",
    "Suppose that you have a dataset consists of house prices within a specific area, along with features of those houses.\n",
    "Each house is represented with a _feature vector_: $x = (x_1, x_2, x_3, ..., x_d)$.\n",
    "\n",
    "The price of a particular house is predicted by the following formula:\n",
    "$$\n",
    "\\hat{y} = \\theta^Tx\n",
    "$$"
   ],
   "metadata": {}
  }
 ],
 "metadata": {
  "orig_nbformat": 4,
  "language_info": {
   "name": "python"
  }
 },
 "nbformat": 4,
 "nbformat_minor": 2
}